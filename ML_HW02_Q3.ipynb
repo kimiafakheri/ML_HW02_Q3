{
  "cells": [
    {
      "cell_type": "markdown",
      "id": "5f42a3ce",
      "metadata": {
        "id": "5f42a3ce"
      },
      "source": [
        "<h1 align=\"center\">Introduction to Machine Learning - 25737-2</h1>\n",
        "<h4 align=\"center\">Dr. R. Amiri</h4>\n",
        "<h4 align=\"center\">Sharif University of Technology, Spring 2024</h4>\n",
        "\n",
        "\n",
        "**<font color='red'>Plagiarism is strongly prohibited!</font>**\n",
        "\n",
        "\n",
        "**Student Name**:\n",
        "\n",
        "**Student ID**:\n",
        "\n",
        "\n",
        "\n"
      ]
    },
    {
      "cell_type": "markdown",
      "id": "a01c559e",
      "metadata": {
        "id": "a01c559e"
      },
      "source": [
        "## Importing Libraries\n",
        "\n",
        "First we import libraries that we need for this assignment."
      ]
    },
    {
      "cell_type": "code",
      "execution_count": null,
      "id": "0423187e",
      "metadata": {
        "id": "0423187e"
      },
      "outputs": [],
      "source": [
        "import numpy as np\n",
        "import pandas as pd\n",
        "import matplotlib.pyplot as plt\n",
        "from sklearn.model_selection import train_test_split\n",
        "from sklearn.metrics import accuracy_score\n",
        "from sklearn.naive_bayes import GaussianNB\n",
        "from sklearn.discriminant_analysis import LinearDiscriminantAnalysis\n",
        "# import any other libraries needed below"
      ]
    },
    {
      "cell_type": "markdown",
      "id": "2f795731",
      "metadata": {
        "id": "2f795731"
      },
      "source": [
        "## Reading Data and Preprocessing\n",
        "\n",
        "In this section, we want to read data from a CSV file and then preprocess it to make it ready for the rest of the problem.\n",
        "\n",
        "First, we read the data in the cell below and extract an $m \\times n$ matrix, $X$, and an $m \\times 1$ vector, $Y$, from it, which represent our knowledge about the features of the data (`X1`, `X2`, `X3`) and the class (`Y`), respectively. Note that by $m$, we mean the number of data points and by $n$, we mean the number of features."
      ]
    },
    {
      "cell_type": "code",
      "execution_count": null,
      "id": "410e750d",
      "metadata": {
        "colab": {
          "base_uri": "https://localhost:8080/"
        },
        "id": "410e750d",
        "outputId": "790c0649-6252-4175-b17e-8b2ca877a942"
      },
      "outputs": [
        {
          "output_type": "stream",
          "name": "stdout",
          "text": [
            "Features:\n",
            "              X1           X2          X3\n",
            "0     212.333644   327.382173  259.683281\n",
            "1      80.919786  1006.053094  446.516485\n",
            "2     578.734414   994.692630  690.134343\n",
            "3     305.032631   129.330782  300.859310\n",
            "4     619.632739   640.433450  398.845694\n",
            "...          ...          ...         ...\n",
            "9995  752.237135   835.993568  903.818416\n",
            "9996  850.512599   143.955973  999.015570\n",
            "9997  895.453659   468.734000  912.242197\n",
            "9998  913.757920   725.527844  777.143559\n",
            "9999  732.694805   937.894796  751.953946\n",
            "\n",
            "[10000 rows x 3 columns]\n",
            "Y:\n",
            "0       1\n",
            "1       1\n",
            "2       1\n",
            "3       0\n",
            "4       1\n",
            "       ..\n",
            "9995    1\n",
            "9996    0\n",
            "9997    0\n",
            "9998    1\n",
            "9999    1\n",
            "Name: Y, Length: 10000, dtype: int64\n",
            "(10000, 3)\n",
            "(10000,)\n"
          ]
        }
      ],
      "source": [
        "X, Y = None, None\n",
        "\n",
        "### START CODE HERE ###\n",
        "data = pd.read_csv('data_logistic.csv')\n",
        "\n",
        "X = data[['X1', 'X2', 'X3']]\n",
        "Y = data['Y']\n",
        "\n",
        "print(\"Features:\")\n",
        "print(X)\n",
        "print(\"Y:\")\n",
        "print(Y)\n",
        "\n",
        "### END CODE HERE ###\n",
        "\n",
        "print(X.shape)\n",
        "print(Y.shape)"
      ]
    },
    {
      "cell_type": "markdown",
      "id": "866734e2",
      "metadata": {
        "id": "866734e2"
      },
      "source": [
        "Next, we should normalize our data. For normalizing a vector $\\mathbf{x}$, a very common method is to use this formula:\n",
        "\n",
        "$$\n",
        "\\mathbf{x}_{norm} = \\dfrac{\\mathbf{x} - \\overline{\\mathbf{x}}}{\\sigma_\\mathbf{x}}\n",
        "$$\n",
        "\n",
        "Here, $\\overline{x}$ and $\\sigma_\\mathbf{x}$ denote the mean and standard deviation of vector $\\mathbf{x}$, respectively. Use this formula and store the new $X$ and $Y$ vectors in the cell below.\n",
        "\n",
        "**Question**: Briefly explain why we need to normalize our data before starting the training.\n",
        "\n",
        "**Answer**:We need to normalize our data before starting the training because normalized data is easier to understand and interpret, as all features are on the same scale and many machine learning algorithms are sensitive to the scale of the features. For example, in the case of gradient descent (used in linear regression, logistic regressions, etc.), if features are not on the same scale, the feature with a larger scale may dominate the objective function, causing the algorithm to take longer to converge."
      ]
    },
    {
      "cell_type": "code",
      "execution_count": null,
      "id": "9e757eb0",
      "metadata": {
        "colab": {
          "base_uri": "https://localhost:8080/"
        },
        "id": "9e757eb0",
        "outputId": "8ee1b3e7-b393-47ef-8eea-f90fc93d2e40"
      },
      "outputs": [
        {
          "output_type": "stream",
          "name": "stdout",
          "text": [
            "Normalized Features:\n",
            "            X1        X2        X3\n",
            "0    -1.000611 -0.605340 -0.850177\n",
            "1    -1.453597  1.730424 -0.202375\n",
            "2     0.262377  1.691325  0.642316\n",
            "3    -0.681077 -1.286968 -0.707409\n",
            "4     0.403354  0.472081 -0.367663\n",
            "...        ...       ...       ...\n",
            "9995  0.860443  1.145135  1.383218\n",
            "9996  1.199200 -1.236633  1.713293\n",
            "9997  1.354112 -0.118853  1.412425\n",
            "9998  1.417208  0.764948  0.944001\n",
            "9999  0.793081  1.495845  0.856662\n",
            "\n",
            "[10000 rows x 3 columns]\n"
          ]
        }
      ],
      "source": [
        "### START CODE HERE ###\n",
        "X_normalized = (X - X.mean()) / X.std()\n",
        "\n",
        "print(\"Normalized Features:\")\n",
        "print(X_normalized)\n",
        "\n",
        "### END CODE HERE ###"
      ]
    },
    {
      "cell_type": "markdown",
      "id": "5465bfa4",
      "metadata": {
        "id": "5465bfa4"
      },
      "source": [
        "Finally, we should add a column of $1$s at the beginning of $X$ to represent the bias term. Do this in the next cell. Note that after this process, $X$ should be an $m \\times (n+1)$ matrix."
      ]
    },
    {
      "cell_type": "code",
      "execution_count": null,
      "id": "b9a60f1f",
      "metadata": {
        "colab": {
          "base_uri": "https://localhost:8080/"
        },
        "id": "b9a60f1f",
        "outputId": "565a9e9a-cf81-4c5e-85f7-268c1cad9543"
      },
      "outputs": [
        {
          "output_type": "stream",
          "name": "stdout",
          "text": [
            "      Bias        X1        X2        X3\n",
            "0        1 -1.000611 -0.605340 -0.850177\n",
            "1        1 -1.453597  1.730424 -0.202375\n",
            "2        1  0.262377  1.691325  0.642316\n",
            "3        1 -0.681077 -1.286968 -0.707409\n",
            "4        1  0.403354  0.472081 -0.367663\n",
            "...    ...       ...       ...       ...\n",
            "9995     1  0.860443  1.145135  1.383218\n",
            "9996     1  1.199200 -1.236633  1.713293\n",
            "9997     1  1.354112 -0.118853  1.412425\n",
            "9998     1  1.417208  0.764948  0.944001\n",
            "9999     1  0.793081  1.495845  0.856662\n",
            "\n",
            "[10000 rows x 4 columns]\n",
            "(10000, 3)\n"
          ]
        }
      ],
      "source": [
        "### START CODE HERE ###\n",
        "X_normalized = (X - X.mean()) / X.std()\n",
        "X_normalized.insert(0, 'Bias', 1)\n",
        "print(X_normalized)\n",
        "### END CODE HERE ###\n",
        "\n",
        "print(X.shape)"
      ]
    },
    {
      "cell_type": "markdown",
      "id": "5cdf0d78",
      "metadata": {
        "id": "5cdf0d78"
      },
      "source": [
        "## Training Model"
      ]
    },
    {
      "cell_type": "markdown",
      "id": "c8714abe",
      "metadata": {
        "id": "c8714abe"
      },
      "source": [
        "### Sigmoid Function\n",
        "You should begin by implementing the $\\sigma(\\mathbf{x})$ function. Recall that the logistic regression hypothesis $\\mathcal{h}()$ is defined as:\n",
        "$$\n",
        "\\mathcal{h}_{\\theta}(\\mathbf{x}) = \\mathcal{g}(\\theta^\\mathbf{T}\\mathbf{x})\n",
        "$$\n",
        "where $\\mathcal{g}()$ is the sigmoid function as:\n",
        "$$\n",
        "\\mathcal{g}(\\mathbf{z}) = \\frac{1}{1+exp^{-\\mathbf{z}}}\n",
        "$$\n",
        "The Sigmoid function has the property that $\\mathbf{g}(+\\infty)\\approx 1$ and $\\mathcal{g}(−\\infty)\\approx0$. Test your function by calling `sigmoid(z)` on different test samples. Be certain that your sigmoid function works with both vectors and matrices - for either a vector or a matrix, your function should perform the sigmoid function on every element."
      ]
    },
    {
      "cell_type": "code",
      "execution_count": null,
      "id": "6a6b6ae4",
      "metadata": {
        "colab": {
          "base_uri": "https://localhost:8080/"
        },
        "id": "6a6b6ae4",
        "outputId": "ad5210af-0b06-427a-c290-5f77d63341db"
      },
      "outputs": [
        {
          "output_type": "stream",
          "name": "stdout",
          "text": [
            "0.5\n",
            "[0.5        0.73105858 0.88079708]\n",
            "[[0.5        0.73105858 0.88079708]\n",
            " [0.95257413 0.98201379 0.99330715]]\n"
          ]
        }
      ],
      "source": [
        "def sigmoid(Z):\n",
        "    '''\n",
        "    Applies the sigmoid function on every element of Z\n",
        "    Arguments:\n",
        "        Z can be a (n,) vector or (n , m) matrix\n",
        "    Returns:\n",
        "        A vector/matrix, same shape with Z, that has the sigmoid function applied elementwise\n",
        "    '''\n",
        "    ### START CODE HERE ###\n",
        "    Z = np.clip(Z, -100, 100)\n",
        "    return 1 / (1 + np.exp(-Z))\n",
        "\n",
        "# Some test samples\n",
        "print(sigmoid(0))\n",
        "print(sigmoid(np.array([0, 1, 2])))\n",
        "print(sigmoid(np.array([[0, 1, 2], [3, 4, 5]])))\n",
        "\n",
        "    ### END CODE HERE ###"
      ]
    },
    {
      "cell_type": "markdown",
      "id": "83846074",
      "metadata": {
        "id": "83846074"
      },
      "source": [
        "### Cost Function\n",
        "Implement the functions to compute the cost function. Recall the cost function for logistic regression is a scalar value given by:\n",
        "$$\n",
        "\\mathcal{J}(\\theta) = \\sum_{i=1}^{n}[-y^{(i)}\\log{(\\mathcal{h}_\\theta(\\mathbf{x}^{(i)}))}-(1-y^{(i)})\\log{(1-\\mathcal{h}_\\theta(\\mathbf{x}^{(i)}))}] + \\frac{\\lambda}{2}||\\theta||_2^2\n",
        "$$"
      ]
    },
    {
      "cell_type": "code",
      "execution_count": null,
      "id": "26a9bdeb",
      "metadata": {
        "id": "26a9bdeb"
      },
      "outputs": [],
      "source": [
        "def computeCost(theta, X, y, regLambda):\n",
        "    '''\n",
        "    Computes the objective function\n",
        "    Arguments:\n",
        "        theta is d-dimensional numpy vector\n",
        "        X is a n-by-d numpy matrix\n",
        "        y is an n-dimensional numpy vector\n",
        "        regLambda is the scalar regularization constant\n",
        "    Returns:\n",
        "        a scalar value of the cost  ** make certain you're not returning a 1 x 1 matrix! **\n",
        "    '''\n",
        "    m, n = X.shape\n",
        "    loss = None\n",
        "    ### START CODE HERE ###\n",
        "\n",
        "    h = sigmoid(np.dot(X, theta))\n",
        "\n",
        "    # Computing the loss\n",
        "    loss=(1/m) * np.sum(-y*np.log(h + 1e-10) - (1-y)*np.log(1-h + 1e-10)) + (regLambda/2)*np.sum(np.square(theta))\n",
        "\n",
        "    ### END CODE HERE ###\n",
        "    return loss"
      ]
    },
    {
      "cell_type": "markdown",
      "id": "6eaf1146",
      "metadata": {
        "id": "6eaf1146"
      },
      "source": [
        "### Gradient of the Cost Function\n",
        "Now, we want to calculate the gradient of the cost function. The gradient of the cost function is a d-dimensional vector.\\\n",
        "We must be careful not to regularize the $\\theta_0$ parameter (corresponding to the first feature we add to each instance), and so the 0's element is given by:\n",
        "$$\n",
        "\\frac{\\partial \\mathcal{J}(\\theta)}{\\partial \\theta_0} = \\sum_{i=1}^n (\\mathcal{h}_\\theta(\\mathbf{x}^{(i)})-y^{(i)})\n",
        "$$\n",
        "\n",
        "Question: What is the answer to this problem for the $j^{th}$ element (for $j=1...d$)?\n",
        "\n",
        "Answer:A λθj​​ term will be added into the formula and we will calculate the derivative of cost function about θj​.(λ is the regularization parameter and θj​ is the jth parameter value.)"
      ]
    },
    {
      "cell_type": "code",
      "execution_count": null,
      "id": "35f7c2dd",
      "metadata": {
        "id": "35f7c2dd"
      },
      "outputs": [],
      "source": [
        "def computeGradient(theta, X, y, regLambda):\n",
        "    '''\n",
        "    Computes the gradient of the objective function\n",
        "    Arguments:\n",
        "        theta is d-dimensional numpy vector\n",
        "        X is a n-by-d numpy matrix\n",
        "        y is an n-dimensional numpy vector\n",
        "        regLambda is the scalar regularization constant\n",
        "    Returns:\n",
        "        the gradient, an d-dimensional vector\n",
        "    '''\n",
        "\n",
        "    m, n = X.shape\n",
        "    grad = None\n",
        "    ### START CODE HERE ###\n",
        "\n",
        "    h = sigmoid(np.dot(X, theta))\n",
        "    grad = (1/m) * np.dot(X.T, (h - y)) + regLambda*theta\n",
        "\n",
        "    grad[0] = (1/m) * np.dot(X.iloc[:, 0].T, (h - y))\n",
        "\n",
        "\n",
        "    ### END CODE HERE ###\n",
        "    return grad"
      ]
    },
    {
      "cell_type": "markdown",
      "id": "24bc86bd",
      "metadata": {
        "id": "24bc86bd"
      },
      "source": [
        "### Training and Prediction\n",
        "Once you have the cost and gradient functions complete, implemen tthe fit and predict methods.\\\n",
        "Your fit method should train the model via gradient descent, relying on the cost and gradient functions. This function should return two parameters. The first parameter is $\\theta$, and the second parameter is a `numpy` array that contains the loss in each iteration. This array is indicated by `loss_history` in the code.\\\n",
        "Instead of simply running gradient descent for a specific number of iterations, we will use a more sophisticated method: we will stop it after the solution hasconverged. Stop the gradient descent procedure when $\\theta$ stops changing between consecutive iterations. You can detect this convergence when:\n",
        "$$\n",
        "||\\theta_{new}-\\theta_{old}||_2 <= \\epsilon,\n",
        "$$\n",
        "for some small $\\epsilon$ (e.g, $\\epsilon=10E-4$).\\\n",
        "For readability, we’d recommend implementing this convergence test as a dedicated function `hasConverged`."
      ]
    },
    {
      "cell_type": "code",
      "execution_count": null,
      "id": "cc0cad78",
      "metadata": {
        "id": "cc0cad78"
      },
      "outputs": [],
      "source": [
        "def fit(X, y, regLambda = 0.01, alpha = 0.01, epsilon = 1e-4, maxNumIters = 100):\n",
        "    '''\n",
        "    Trains the modelTraining and Prediction\n",
        "Once you have the cost and gradient functions complete, implemen tthe fit and predict methods.\n",
        "Your fit method should train the model via gradient descent, relying on the cost and gradient functions. This function should return two parameters. The first parameter is  θ , and the second parameter is a numpy array that contains the loss in each iteration. This array is indicated by loss_history in the code.\n",
        "Instead of simply running gradient descent for a specific number of iterations, we will use a more sophisticated method: we will stop it after the solution hasconverged. Stop the gradient descent procedure when  θ  stops changing between consecutive iterations. You can detect this convergence when:\n",
        "||θnew−θold||2<=ϵ,\n",
        "for some small  ϵ  (e.g,  ϵ=10E−4 ).\n",
        "For readability, we’d recommend implementing this convergence test as a dedicated function hasConverged.\n",
        "    Arguments:\n",
        "        X           is a n-by-d numpy matrix\n",
        "        y           is an n-dimensional numpy vector\n",
        "        maxNumIters is the maximum number of gradient descent iterations\n",
        "        regLambda   is the scalar regularization constant\n",
        "        epsilon     is the convergence rate\n",
        "        alpha       is the gradient descent learning rate\n",
        "    '''\n",
        "\n",
        "    m, n = X.shape\n",
        "    theta = np.zeros(n)\n",
        "    loss_history = []\n",
        "    ### START CODE HERE ###\n",
        "\n",
        "    for i in range(maxNumIters):\n",
        "        theta_old = theta\n",
        "        grad = computeGradient(theta, X, y, regLambda)\n",
        "        theta = theta - alpha * grad\n",
        "        loss = computeCost(theta, X, y, regLambda)\n",
        "        loss_history.append(loss)\n",
        "        if hasConverged(theta_old, theta, epsilon):\n",
        "            break\n",
        "\n",
        "    ### END CODE HERE ###\n",
        "    return theta, loss_history\n",
        "\n",
        "def hasConverged(theta_old, theta_new, epsilon):\n",
        "    '''\n",
        "    Return if the theta converged or not\n",
        "    Arguments:\n",
        "        theta_old   is the theta calculated in prevoius iteration\n",
        "        theta_new   is the theta calculated in current iteration\n",
        "        epsilon     is the convergence rate\n",
        "    '''\n",
        "\n",
        "    ### START CODE HERE ###\n",
        "\n",
        "    return np.linalg.norm(theta_new - theta_old) <= epsilon\n",
        "\n",
        "    ### END CODE HERE ###\n",
        "    return False"
      ]
    },
    {
      "cell_type": "markdown",
      "id": "bb648852",
      "metadata": {
        "id": "bb648852"
      },
      "source": [
        "Finally, we want to evaluate our loss for this problem. Complete the cell below to calculate and print the loss of each iteration and the final theta of your model."
      ]
    },
    {
      "cell_type": "code",
      "execution_count": null,
      "id": "252e556f",
      "metadata": {
        "colab": {
          "base_uri": "https://localhost:8080/"
        },
        "id": "252e556f",
        "outputId": "bd965dcd-318b-4644-c900-d27e0d710882"
      },
      "outputs": [
        {
          "output_type": "stream",
          "name": "stdout",
          "text": [
            "Loss of each iteration:\n",
            "Iteration 1: 7.711785846377596\n",
            "Iteration 2: 13.206003959090337\n",
            "Iteration 3: 7.821665310785758\n",
            "Iteration 4: 4.130928406291304\n",
            "Iteration 5: 4.448011390635048\n",
            "Iteration 6: 4.859972135250692\n",
            "Iteration 7: 3.9020560146264742\n",
            "Iteration 8: 3.8904744689937236\n",
            "Iteration 9: 2.967930252365527\n",
            "Iteration 10: 2.998214065049592\n",
            "Iteration 11: 2.4683478896470206\n",
            "Iteration 12: 2.4641710378807193\n",
            "Iteration 13: 2.007585022476988\n",
            "Iteration 14: 2.005086123613132\n",
            "Iteration 15: 1.66138390874125\n",
            "Iteration 16: 1.5883780071979543\n",
            "Iteration 17: 1.3214748087494075\n",
            "Iteration 18: 1.2365526401628384\n",
            "Iteration 19: 0.9863353734794885\n",
            "Iteration 20: 0.9760355911651204\n",
            "Iteration 21: 0.8115309689962003\n",
            "Iteration 22: 0.763029060464295\n",
            "Iteration 23: 0.6680906145049379\n",
            "Iteration 24: 0.637719769133332\n",
            "Iteration 25: 0.5395513398526767\n",
            "Iteration 26: 0.552545716313244\n",
            "Iteration 27: 0.5036429410715233\n",
            "Iteration 28: 0.500974186153149\n",
            "Iteration 29: 0.4717229276223974\n",
            "Iteration 30: 0.46306140409866986\n",
            "Iteration 31: 0.43149882052360655\n",
            "Iteration 32: 0.4343660751242845\n",
            "Iteration 33: 0.3917144113906236\n",
            "Iteration 34: 0.3957337029440061\n",
            "Iteration 35: 0.3602493887368555\n",
            "Iteration 36: 0.3589663413166433\n",
            "Iteration 37: 0.3381026399239796\n",
            "Iteration 38: 0.3462818445084628\n",
            "Iteration 39: 0.33072585915587055\n",
            "Iteration 40: 0.3392867413153188\n",
            "Iteration 41: 0.3298992702678813\n",
            "Iteration 42: 0.33831156232701287\n",
            "Iteration 43: 0.3296803028605684\n",
            "Iteration 44: 0.33811133104490454\n",
            "Iteration 45: 0.3296335674348657\n",
            "Iteration 46: 0.33809362022865025\n",
            "Iteration 47: 0.32963442953836036\n",
            "Iteration 48: 0.33810256531982374\n",
            "Iteration 49: 0.32963385020733016\n",
            "Iteration 50: 0.3380856045603653\n",
            "Iteration 51: 0.3296141204705919\n",
            "Iteration 52: 0.33802898490062594\n",
            "Iteration 53: 0.32957158107474754\n",
            "Iteration 54: 0.33793428974818396\n",
            "Iteration 55: 0.3295079131707731\n",
            "Iteration 56: 0.33780768087058755\n",
            "Iteration 57: 0.32942590799488414\n",
            "Iteration 58: 0.3376551703792624\n",
            "Iteration 59: 0.32932772935671417\n",
            "Iteration 60: 0.33748098161418494\n",
            "Iteration 61: 0.3292143919130417\n",
            "Iteration 62: 0.33728729142970193\n",
            "Iteration 63: 0.3290857108101327\n",
            "Iteration 64: 0.3370744454116123\n",
            "Iteration 65: 0.32894035068920374\n",
            "Iteration 66: 0.33684119715492566\n",
            "Iteration 67: 0.32877580885849866\n",
            "Iteration 68: 0.3365848167519906\n",
            "Iteration 69: 0.3285882557432229\n",
            "Iteration 70: 0.3363010063895381\n",
            "Iteration 71: 0.328372173627825\n",
            "Iteration 72: 0.33598356939604723\n",
            "Iteration 73: 0.32811970988934147\n",
            "Iteration 74: 0.3356237866933891\n",
            "Iteration 75: 0.32781960194575027\n",
            "Iteration 76: 0.33520939394829286\n",
            "Iteration 77: 0.3274554367685274\n",
            "Iteration 78: 0.3347229971898904\n",
            "Iteration 79: 0.3270028905730853\n",
            "Iteration 80: 0.3341397531585136\n",
            "Iteration 81: 0.3264255668060658\n",
            "Iteration 82: 0.33342437409818226\n",
            "Iteration 83: 0.3256696478747404\n",
            "Iteration 84: 0.33252861355723745\n",
            "Iteration 85: 0.32466081108107836\n",
            "Iteration 86: 0.33139465385254696\n",
            "Iteration 87: 0.32331855734176873\n",
            "Iteration 88: 0.3299832832582687\n",
            "Iteration 89: 0.32162991313084544\n",
            "Iteration 90: 0.32836874119660175\n",
            "Iteration 91: 0.3198151947950326\n",
            "Iteration 92: 0.3268639972014687\n",
            "Iteration 93: 0.31835655842959265\n",
            "Iteration 94: 0.32583462953668313\n",
            "Iteration 95: 0.3175373539415943\n",
            "Iteration 96: 0.32530980097117734\n",
            "Iteration 97: 0.31720160165585704\n",
            "Iteration 98: 0.3250920667663499\n",
            "Iteration 99: 0.3170980696059512\n",
            "Iteration 100: 0.3250101747421039\n",
            "\n",
            "Final theta: [-3.53107304  3.76450252  1.20939114]\n"
          ]
        }
      ],
      "source": [
        "theta, loss_history = fit(X, Y) # calculating theta and loss of each iteration\n",
        "\n",
        "### START CODE HERE ###\n",
        "\n",
        "print(\"Loss of each iteration:\")\n",
        "for i, loss in enumerate(loss_history):\n",
        "    print(f\"Iteration {i+1}: {loss}\")\n",
        "\n",
        "print(f\"\\nFinal theta: {theta}\")\n",
        "\n",
        "### END CODE HERE ###"
      ]
    },
    {
      "cell_type": "markdown",
      "id": "f4b3fab6",
      "metadata": {
        "id": "f4b3fab6"
      },
      "source": [
        "### Testing Your Implementation\n",
        "To test your logistic regression implementation, first you should use `train_test_split` function to split dataset into three parts:\n",
        "\n",
        "- 70% for the training set\n",
        "- 20% for the validation set\n",
        "- 10% for the test set\n",
        "\n",
        "Do this in the cell below."
      ]
    },
    {
      "cell_type": "code",
      "execution_count": null,
      "id": "4518fe11",
      "metadata": {
        "id": "4518fe11"
      },
      "outputs": [],
      "source": [
        "X_train, Y_train, X_val, Y_val, X_test, Y_test = None, None, None, None, None, None\n",
        "\n",
        "### START CODE HERE ###\n",
        "X = data.drop('Y', axis=1)\n",
        "y = data['Y']\n",
        "\n",
        "X_train, X_temp, y_train, y_temp = train_test_split(X, y, test_size=0.3, random_state=35)\n",
        "X_val, X_test, y_val, y_test = train_test_split(X_temp, y_temp, test_size=1/3, random_state=35)\n",
        "\n",
        "### END CODE HERE ###"
      ]
    },
    {
      "cell_type": "markdown",
      "id": "f9fbe5d7",
      "metadata": {
        "id": "f9fbe5d7"
      },
      "source": [
        "Then, you should complete `predict` function to find the weight vector and the loss on the test data."
      ]
    },
    {
      "cell_type": "code",
      "execution_count": null,
      "id": "95c2fe20",
      "metadata": {
        "id": "95c2fe20"
      },
      "outputs": [],
      "source": [
        "def predict(X, theta):\n",
        "    '''\n",
        "    Use the model to predict values for each instance in X\n",
        "    Arguments:\n",
        "        theta is d-dimensional numpy vector\n",
        "        X     is a n-by-d numpy matrix\n",
        "    Returns:\n",
        "        an n-dimensional numpy vector of the predictions, the output should be binary (use h_theta > .5)\n",
        "    '''\n",
        "\n",
        "    Y = None\n",
        "    ### START CODE HERE ###\n",
        "\n",
        "    h = sigmoid(np.dot(X, theta))\n",
        "    Y = (h > 0.5).astype(int)\n",
        "\n",
        "    ### END CODE HERE ###\n",
        "    return Y"
      ]
    },
    {
      "cell_type": "markdown",
      "id": "246d1c02",
      "metadata": {
        "id": "246d1c02"
      },
      "source": [
        "Now, run the `fit` and `predict` function for different values of the learning rate and regularization constant. Plot the `loss_history` of these different values for train and test data both in the same figure.\n",
        "\n",
        "**Question**: Discuss the effect of the learning rate and regularization constant and find the best values of these parameters.\n",
        "\n",
        "**Answer**: The learning rate and regularization constant are two pivotal parameters in machine learning models. The learning rate, denoted as α, controls the step size during the iterative process of finding the minimum of the loss function. If α is too small, the model may take a long time to converge. On the other hand, if α is too large, the model may overshoot the minimum and fail to converge.\n",
        "\n",
        "The regularization constant, denoted as λ, helps to avoid overfitting by adding a penalty term to the loss function. A larger λ leads to a simpler model with smaller coefficients, which can help to prevent overfitting. However, if λ is too large, the model may become too simple and underfit the data. Conversely, a smaller λ makes the model more complex, which can lead to overfitting if λ is too small.\n",
        "\n",
        "In the context of my dataset, I found that both the learning rate and regularization constant worked best at 0.01. This suggests that a moderate learning rate and a small amount of regularization helped to achieve the best balance between bias and variance for my model."
      ]
    },
    {
      "cell_type": "code",
      "execution_count": null,
      "id": "cd2af382",
      "metadata": {
        "id": "cd2af382",
        "colab": {
          "base_uri": "https://localhost:8080/",
          "height": 696
        },
        "outputId": "57802290-1808-46fc-9781-0dc8bfade603"
      },
      "outputs": [
        {
          "output_type": "display_data",
          "data": {
            "text/plain": [
              "<Figure size 1200x800 with 1 Axes>"
            ],
            "image/png": "[encoded data removed]"
          },
          "metadata": {}
        }
      ],
      "source": [
        "### START CODE HERE ###\n",
        "import matplotlib.pyplot as plt\n",
        "\n",
        "# Define the learning rates and regularization constants\n",
        "learning_rates = [0.01, 0.05, 0.1]\n",
        "reg_constants = [0.01, 0.05, 0.1]\n",
        "\n",
        "# Initialize a figure for the plots\n",
        "plt.figure(figsize=(12, 8))\n",
        "\n",
        "# Loop over the learning rates and regularization constants\n",
        "for alpha in learning_rates:\n",
        "    for regLambda in reg_constants:\n",
        "        test_losses = []\n",
        "        num_iters = []\n",
        "        for i in range(5, 101, 5):\n",
        "            # Fit the model and get the loss history\n",
        "            theta, loss_history = fit(X_train, y_train, regLambda=regLambda, alpha=alpha, maxNumIters=i)\n",
        "\n",
        "            # Predict on the test set\n",
        "            y_pred = predict(X_test, theta)\n",
        "\n",
        "            # Compute the test loss\n",
        "            test_losses.append(computeCost(theta, X_test, y_test, regLambda))\n",
        "            num_iters.append(i)\n",
        "\n",
        "        # Plot the train loss history\n",
        "        plt.plot(loss_history, label=f'Train Loss: α={alpha}, λ={regLambda}')\n",
        "\n",
        "\n",
        "        # Add a point for the test loss\n",
        "        plt.scatter(num_iters, test_losses, label=f'Test Loss: α={alpha}, λ={regLambda}')\n",
        "\n",
        "# Add labels and legend to the plot\n",
        "plt.xlabel('Iteration')\n",
        "plt.ylabel('Loss')\n",
        "plt.legend()\n",
        "plt.show()\n",
        "\n",
        "### END CODE HERE ###"
      ]
    },
    {
      "cell_type": "code",
      "source": [
        "# Fit the model with the best parameters and get the loss history\n",
        "theta, loss_history = fit(X_train, y_train, regLambda=0.01, alpha=0.01, maxNumIters=100)\n",
        "\n",
        "# Predict on the test set\n",
        "y_pred = predict(X_test, theta)\n",
        "\n",
        "# Calculate the accuracy\n",
        "accuracy = accuracy_score(y_test, y_pred)\n",
        "\n",
        "print(f\"The accuracy of this classifier on the test set is {accuracy * 100:2f} %\")"
      ],
      "metadata": {
        "colab": {
          "base_uri": "https://localhost:8080/"
        },
        "id": "oWoypKrtgiSs",
        "outputId": "7dff2180-7762-4fe9-f208-b3773fd643e8"
      },
      "id": "oWoypKrtgiSs",
      "execution_count": null,
      "outputs": [
        {
          "output_type": "stream",
          "name": "stdout",
          "text": [
            "The accuracy of this classifier on the test set is 99.000000 %\n"
          ]
        }
      ]
    },
    {
      "cell_type": "markdown",
      "id": "11babf15",
      "metadata": {
        "id": "11babf15"
      },
      "source": [
        "## Naive Bayes\n",
        "\n",
        "In this part, you will use the `GaussianNB` classifier to classify the data. You should not change the default parameters of this classifier. First, train the classifier on the training set and then find the accuracy of it on the test set.\n",
        "\n",
        "**Question**: What is the accuracy of this method on test set?\n",
        "\n",
        "**Answer**: The accuracy of the GaussianNB classifier on the test set is 93.6 %"
      ]
    },
    {
      "cell_type": "code",
      "execution_count": null,
      "id": "1ef450fb",
      "metadata": {
        "id": "1ef450fb",
        "colab": {
          "base_uri": "https://localhost:8080/"
        },
        "outputId": "8ad8379f-4534-45d8-f3ec-c5fa79c57a3b"
      },
      "outputs": [
        {
          "output_type": "stream",
          "name": "stdout",
          "text": [
            "The accuracy of the GaussianNB classifier on the test set is 93.600000 %\n"
          ]
        }
      ],
      "source": [
        "### START CODE HERE ###\n",
        "# Initialize the GaussianNB classifier\n",
        "clf = GaussianNB()\n",
        "\n",
        "# Train the classifier\n",
        "clf.fit(X_train, y_train)\n",
        "\n",
        "# Predict on the test set\n",
        "y_pred = clf.predict(X_test)\n",
        "\n",
        "# Calculate the accuracy\n",
        "accuracy = accuracy_score(y_test, y_pred)\n",
        "\n",
        "print(f\"The accuracy of the GaussianNB classifier on the test set is {accuracy * 100:2f} %\")\n",
        "\n",
        "### END CODE HERE ###"
      ]
    },
    {
      "cell_type": "markdown",
      "id": "b371657d",
      "metadata": {
        "id": "b371657d"
      },
      "source": [
        "## LDA (Linear Discriminant Analysis)\n",
        "\n",
        "In this part, you will use the `LinearDiscriminantAnalysis` classifier to classify the data. You should not change the default parameters of this classifier. First, train the classifier on the training set and then find the accuracy of it on the test set.\n",
        "\n",
        "**Question**: What is the accuracy of this method on test set?\n",
        "\n",
        "**Answer**: The accuracy of the LinearDiscriminantAnalysis classifier on the test set is 99.3 %"
      ]
    },
    {
      "cell_type": "code",
      "execution_count": null,
      "id": "92cc8743",
      "metadata": {
        "id": "92cc8743",
        "colab": {
          "base_uri": "https://localhost:8080/"
        },
        "outputId": "61b9176f-944d-401e-9543-1a1b092b8104"
      },
      "outputs": [
        {
          "output_type": "stream",
          "name": "stdout",
          "text": [
            "The accuracy of the LinearDiscriminantAnalysis classifier on the test set is 99.3 %\n"
          ]
        }
      ],
      "source": [
        "### START CODE HERE ###\n",
        "# Initialize the LinearDiscriminantAnalysis classifier\n",
        "clf = LinearDiscriminantAnalysis()\n",
        "\n",
        "# Train the classifier\n",
        "clf.fit(X_train, y_train)\n",
        "\n",
        "# Predict on the test set\n",
        "y_pred = clf.predict(X_test)\n",
        "\n",
        "# Calculate the accuracy\n",
        "accuracy = accuracy_score(y_test, y_pred)\n",
        "\n",
        "print(f\"The accuracy of the LinearDiscriminantAnalysis classifier on the test set is {accuracy * 100} %\")\n",
        "\n",
        "### END CODE HERE ###"
      ]
    },
    {
      "cell_type": "markdown",
      "id": "47736bdf",
      "metadata": {
        "id": "47736bdf"
      },
      "source": [
        "## Conclusion\n",
        "\n",
        "**Question**: What is the best method for classifying this dataset? What is the best accuracy on the test set?\n",
        "\n",
        "**Answer**: the best method for classifying this dataset's data has been been shown to be the LDA classifier, which resulted in an accuracy of 99.3% on the test set!"
      ]
    }
  ],
  "metadata": {
    "kernelspec": {
      "display_name": "Python 3 (ipykernel)",
      "language": "python",
      "name": "python3"
    },
    "language_info": {
      "codemirror_mode": {
        "name": "ipython",
        "version": 3
      },
      "file_extension": ".py",
      "mimetype": "text/x-python",
      "name": "python",
      "nbconvert_exporter": "python",
      "pygments_lexer": "ipython3",
      "version": "3.9.12"
    },
    "colab": {
      "provenance": []
    }
  },
  "nbformat": 4,
  "nbformat_minor": 5
}